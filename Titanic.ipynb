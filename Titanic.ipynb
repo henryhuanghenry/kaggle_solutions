{
 "cells": [
  {
   "cell_type": "markdown",
   "id": "374ea5ee",
   "metadata": {},
   "source": [
    "# 背景"
   ]
  },
  {
   "cell_type": "markdown",
   "id": "2aa770be",
   "metadata": {},
   "source": [
    "- 泰坦尼克号的生存预测 https://www.kaggle.com/competitions/titanic/\n",
    "    - 训练集给出了一批乘客的特征以及他们是否生存（标签）\n",
    "    - 需要根据训练集构建模型，去根据测试集中给出的乘客特征预测测试集乘客是否生存\n",
    "    - 根据对标签的观察，是一个二分类的问题"
   ]
  },
  {
   "cell_type": "code",
   "execution_count": 1,
   "id": "ff0387b6",
   "metadata": {},
   "outputs": [],
   "source": [
    "import pandas as pd\n",
    "import numpy as np\n",
    "import catboost as cbt\n",
    "from sklearn.utils import shuffle "
   ]
  },
  {
   "cell_type": "markdown",
   "id": "56d3b1e4",
   "metadata": {},
   "source": [
    "# 过程\n",
    "\n",
    "## 1. 导入数据并观察数据情况\n",
    "\n",
    "- 在此步骤中，需要通过对数据的观察，确定后续的数据清洗、特征工程、模型选型方法。"
   ]
  },
  {
   "cell_type": "code",
   "execution_count": 2,
   "id": "85f3f244",
   "metadata": {},
   "outputs": [],
   "source": [
    "ori_train = pd.read_csv(r\"E:\\B_dsproject\\dataset\\titanic\\train.csv\", header=0)"
   ]
  },
  {
   "cell_type": "markdown",
   "id": "0b14ac5e",
   "metadata": {},
   "source": [
    "- 打印列名\n",
    "- 打印训练集数量\n",
    "- 打印总体情况，观察是否有缺失\n",
    "- 打印正负样本比例\n",
    "\n",
    "结论：\n",
    "- 训练集较小，不宜选择过于复杂的模型\n",
    "- 有缺失值需要处理\n",
    "- 正负样本比例在1:2，可以针对性的进行类别不平衡处理，也可以暂时搁置"
   ]
  },
  {
   "cell_type": "code",
   "execution_count": 3,
   "id": "ba76942b",
   "metadata": {},
   "outputs": [
    {
     "name": "stdout",
     "output_type": "stream",
     "text": [
      "Columns\n",
      " Index(['PassengerId', 'Survived', 'Pclass', 'Name', 'Sex', 'Age', 'SibSp',\n",
      "       'Parch', 'Ticket', 'Fare', 'Cabin', 'Embarked'],\n",
      "      dtype='object')\n",
      "\n",
      "Shape\n",
      " (891, 12)\n",
      "<class 'pandas.core.frame.DataFrame'>\n",
      "RangeIndex: 891 entries, 0 to 890\n",
      "Data columns (total 12 columns):\n",
      " #   Column       Non-Null Count  Dtype  \n",
      "---  ------       --------------  -----  \n",
      " 0   PassengerId  891 non-null    int64  \n",
      " 1   Survived     891 non-null    int64  \n",
      " 2   Pclass       891 non-null    int64  \n",
      " 3   Name         891 non-null    object \n",
      " 4   Sex          891 non-null    object \n",
      " 5   Age          714 non-null    float64\n",
      " 6   SibSp        891 non-null    int64  \n",
      " 7   Parch        891 non-null    int64  \n",
      " 8   Ticket       891 non-null    object \n",
      " 9   Fare         891 non-null    float64\n",
      " 10  Cabin        204 non-null    object \n",
      " 11  Embarked     889 non-null    object \n",
      "dtypes: float64(2), int64(5), object(5)\n",
      "memory usage: 83.7+ KB\n",
      "None\n",
      "\n",
      " Label distribution \n",
      " 0    549\n",
      "1    342\n",
      "Name: Survived, dtype: int64\n"
     ]
    }
   ],
   "source": [
    "print(\"Columns\\n\", ori_train.columns)\n",
    "print(\"\\nShape\\n\", ori_train.shape)\n",
    "print(ori_train.info())\n",
    "print(\"\\n Label distribution \\n\", ori_train[\"Survived\"].value_counts())"
   ]
  },
  {
   "cell_type": "markdown",
   "id": "34034888",
   "metadata": {},
   "source": [
    "打印部分数据看看内容\n",
    "\n",
    "结论：\n",
    "- PassengerId 不宜作为训练特征使用\n",
    "- Name不宜作为训练特征使用 （其中反映的mr miss也许可以利用，但暂时搁置）\n",
    "- 应该作为类别特征的是 Pclass， Sex， Cabin ， Embarked  \n",
    "- 应该作为数值特征的是 Fare\n",
    "- 可以根据模型情况，设定为类别/数值特征的是 SibSp  Age  Parch\n",
    "- Ticket应当处理后作为类别特征"
   ]
  },
  {
   "cell_type": "code",
   "execution_count": 4,
   "id": "fed21406",
   "metadata": {},
   "outputs": [
    {
     "name": "stdout",
     "output_type": "stream",
     "text": [
      "    PassengerId  Survived  Pclass  \\\n",
      "0             1         0       3   \n",
      "1             2         1       1   \n",
      "2             3         1       3   \n",
      "3             4         1       1   \n",
      "4             5         0       3   \n",
      "5             6         0       3   \n",
      "6             7         0       1   \n",
      "7             8         0       3   \n",
      "8             9         1       3   \n",
      "9            10         1       2   \n",
      "10           11         1       3   \n",
      "11           12         1       1   \n",
      "12           13         0       3   \n",
      "13           14         0       3   \n",
      "14           15         0       3   \n",
      "15           16         1       2   \n",
      "16           17         0       3   \n",
      "17           18         1       2   \n",
      "18           19         0       3   \n",
      "19           20         1       3   \n",
      "\n",
      "                                                 Name     Sex   Age  SibSp  \\\n",
      "0                             Braund, Mr. Owen Harris    male  22.0      1   \n",
      "1   Cumings, Mrs. John Bradley (Florence Briggs Th...  female  38.0      1   \n",
      "2                              Heikkinen, Miss. Laina  female  26.0      0   \n",
      "3        Futrelle, Mrs. Jacques Heath (Lily May Peel)  female  35.0      1   \n",
      "4                            Allen, Mr. William Henry    male  35.0      0   \n",
      "5                                    Moran, Mr. James    male   NaN      0   \n",
      "6                             McCarthy, Mr. Timothy J    male  54.0      0   \n",
      "7                      Palsson, Master. Gosta Leonard    male   2.0      3   \n",
      "8   Johnson, Mrs. Oscar W (Elisabeth Vilhelmina Berg)  female  27.0      0   \n",
      "9                 Nasser, Mrs. Nicholas (Adele Achem)  female  14.0      1   \n",
      "10                    Sandstrom, Miss. Marguerite Rut  female   4.0      1   \n",
      "11                           Bonnell, Miss. Elizabeth  female  58.0      0   \n",
      "12                     Saundercock, Mr. William Henry    male  20.0      0   \n",
      "13                        Andersson, Mr. Anders Johan    male  39.0      1   \n",
      "14               Vestrom, Miss. Hulda Amanda Adolfina  female  14.0      0   \n",
      "15                   Hewlett, Mrs. (Mary D Kingcome)   female  55.0      0   \n",
      "16                               Rice, Master. Eugene    male   2.0      4   \n",
      "17                       Williams, Mr. Charles Eugene    male   NaN      0   \n",
      "18  Vander Planke, Mrs. Julius (Emelia Maria Vande...  female  31.0      1   \n",
      "19                            Masselmani, Mrs. Fatima  female   NaN      0   \n",
      "\n",
      "    Parch            Ticket     Fare Cabin Embarked  \n",
      "0       0         A/5 21171   7.2500   NaN        S  \n",
      "1       0          PC 17599  71.2833   C85        C  \n",
      "2       0  STON/O2. 3101282   7.9250   NaN        S  \n",
      "3       0            113803  53.1000  C123        S  \n",
      "4       0            373450   8.0500   NaN        S  \n",
      "5       0            330877   8.4583   NaN        Q  \n",
      "6       0             17463  51.8625   E46        S  \n",
      "7       1            349909  21.0750   NaN        S  \n",
      "8       2            347742  11.1333   NaN        S  \n",
      "9       0            237736  30.0708   NaN        C  \n",
      "10      1           PP 9549  16.7000    G6        S  \n",
      "11      0            113783  26.5500  C103        S  \n",
      "12      0         A/5. 2151   8.0500   NaN        S  \n",
      "13      5            347082  31.2750   NaN        S  \n",
      "14      0            350406   7.8542   NaN        S  \n",
      "15      0            248706  16.0000   NaN        S  \n",
      "16      1            382652  29.1250   NaN        Q  \n",
      "17      0            244373  13.0000   NaN        S  \n",
      "18      0            345763  18.0000   NaN        S  \n",
      "19      0              2649   7.2250   NaN        C  \n"
     ]
    }
   ],
   "source": [
    "print(ori_train[:20])"
   ]
  },
  {
   "cell_type": "markdown",
   "id": "e208f6af",
   "metadata": {},
   "source": [
    "- 更直观的打印缺失的比例"
   ]
  },
  {
   "cell_type": "code",
   "execution_count": 5,
   "id": "f1f5aa97",
   "metadata": {},
   "outputs": [
    {
     "name": "stdout",
     "output_type": "stream",
     "text": [
      "PassengerId    0.000000\n",
      "Survived       0.000000\n",
      "Pclass         0.000000\n",
      "Name           0.000000\n",
      "Sex            0.000000\n",
      "Age            0.198653\n",
      "SibSp          0.000000\n",
      "Parch          0.000000\n",
      "Ticket         0.000000\n",
      "Fare           0.000000\n",
      "Cabin          0.771044\n",
      "Embarked       0.002245\n",
      "dtype: float64\n"
     ]
    }
   ],
   "source": [
    "col_null = ori_train.isnull().sum(axis=0) / len(ori_train)\n",
    "print(col_null)"
   ]
  },
  {
   "cell_type": "markdown",
   "id": "8eae4b8b",
   "metadata": {},
   "source": [
    "- 打印age、parch、SibSp的分布，看看是否可以作为类别特征\n",
    "\n",
    "结论：\n",
    "- 年龄如果要作为类别特征，需要进行分桶。\n",
    "- SibSp和Parch完全可以作为类别特征（也可以作为数值型特征）。"
   ]
  },
  {
   "cell_type": "code",
   "execution_count": 6,
   "id": "707332da",
   "metadata": {
    "scrolled": true
   },
   "outputs": [
    {
     "name": "stdout",
     "output_type": "stream",
     "text": [
      "\n",
      " Age distribution \n",
      " 24.00    30\n",
      "22.00    27\n",
      "18.00    26\n",
      "19.00    25\n",
      "30.00    25\n",
      "         ..\n",
      "55.50     1\n",
      "70.50     1\n",
      "66.00     1\n",
      "23.50     1\n",
      "0.42      1\n",
      "Name: Age, Length: 88, dtype: int64\n",
      "\n",
      " SibSp distribution \n",
      " 0    608\n",
      "1    209\n",
      "2     28\n",
      "4     18\n",
      "3     16\n",
      "8      7\n",
      "5      5\n",
      "Name: SibSp, dtype: int64\n",
      "\n",
      " Parch distribution \n",
      " 0    678\n",
      "1    118\n",
      "2     80\n",
      "5      5\n",
      "3      5\n",
      "4      4\n",
      "6      1\n",
      "Name: Parch, dtype: int64\n"
     ]
    }
   ],
   "source": [
    "print(\"\\n Age distribution \\n\", ori_train[\"Age\"].value_counts())\n",
    "print(\"\\n SibSp distribution \\n\", ori_train[\"SibSp\"].value_counts())\n",
    "print(\"\\n Parch distribution \\n\", ori_train[\"Parch\"].value_counts())"
   ]
  },
  {
   "cell_type": "markdown",
   "id": "627d9261",
   "metadata": {},
   "source": [
    "## 2. 总结结论与模型选型\n",
    "\n",
    "数据集的结论有：\n",
    "\n",
    "- 训练集较小，不宜选择过于复杂的模型\n",
    "- 有缺失值需要处理\n",
    "- 正负样本比例在1:2，可以针对性的进行类别不平衡处理，也可以暂时搁置\n",
    "- 类别特征和连续值特征并存\n",
    "\n",
    "选型：\n",
    "- 简单的模型有：逻辑回归、SVM、GDBT类、FM、FFM等\n",
    "- 因为存在缺失值，同时不宜过于复杂，决定选择GDBT类的模型：XGBOOST、lightGBM、catboost\n",
    "- 因为当前数据集存在较多的类别特征，且需要进行特征间组合，因此**我们选择catboost**：\n",
    "    - 其支持缺失值处理\n",
    "    - 针对类别特征作出了优化\n",
    "    - 建树的时候可以支持特征的组合"
   ]
  },
  {
   "cell_type": "code",
   "execution_count": 7,
   "id": "e04b6981",
   "metadata": {},
   "outputs": [],
   "source": [
    "## 针对票，粗略的进行分类，构建为类别特征\n",
    "def transformation_ticket(data):\n",
    "    data = str(data).strip()\n",
    "    if data.isnumeric(): \n",
    "        return 1\n",
    "    else:\n",
    "        return 0"
   ]
  },
  {
   "cell_type": "markdown",
   "id": "57ebf787",
   "metadata": {},
   "source": [
    "- 根据选择的模型，进行：\n",
    "    - 缺失值的处理\n",
    "    - 样本的分割"
   ]
  },
  {
   "cell_type": "code",
   "execution_count": 8,
   "id": "18c0ee24",
   "metadata": {},
   "outputs": [
    {
     "name": "stdout",
     "output_type": "stream",
     "text": [
      "0    427\n",
      "1    285\n",
      "Name: Survived, dtype: int64\n",
      "0    122\n",
      "1     57\n",
      "Name: Survived, dtype: int64\n"
     ]
    }
   ],
   "source": [
    "ori_train = shuffle(ori_train, random_state=2023)\n",
    "ori_train = ori_train.fillna({'Embarked': \"NaN\"})\n",
    "ori_train[\"Ticket\"] = ori_train[\"Ticket\"].apply(transformation_ticket)\n",
    "# ori_train[\"Title\"] = ori_train[\"Name\"].apply(title_gen)\n",
    "train = ori_train[: int(0.8 * len(ori_train))]\n",
    "print(train[\"Survived\"].value_counts())\n",
    "validation = ori_train[int(0.8 * len(ori_train)):]\n",
    "print(validation[\"Survived\"].value_counts())"
   ]
  },
  {
   "cell_type": "markdown",
   "id": "8bcd7042",
   "metadata": {},
   "source": [
    "- 设置模型的参数，评估指标，训练策略"
   ]
  },
  {
   "cell_type": "code",
   "execution_count": 9,
   "id": "40316d43",
   "metadata": {},
   "outputs": [],
   "source": [
    "model = cbt.CatBoostClassifier(iterations=500,\n",
    "                           depth=6,\n",
    "                           learning_rate=0.005, l2_leaf_reg=0.1,min_data_in_leaf=7, random_state=2023, feature_weights=[1, 1],\n",
    "                           loss_function='Logloss', eval_metric=\"F1\", early_stopping_rounds=50, nan_mode=\"Max\",\n",
    "                           verbose=True, use_best_model=True,cat_features = [\"Pclass\", \"Sex\", \"SibSp\", \"Parch\", \"Embarked\", \"Ticket\"])\n",
    "# model = cbt.CatBoostClassifier(iterations=500,\n",
    "#                            depth=6,\n",
    "#                            learning_rate=0.005, l2_leaf_reg=0.1,min_data_in_leaf=7, random_state=2023, feature_weights=[1, 1],\n",
    "#                            loss_function='Logloss', eval_metric=\"F1\", early_stopping_rounds=20, nan_mode=\"Max\",\n",
    "#                                per_float_feature_quantization='5:border_count=1000',\n",
    "#                            verbose=True, use_best_model=True,cat_features = [\"Pclass\", \"Sex\", \"SibSp\", \"Parch\", \"Embarked\", \"Ticket\"])"
   ]
  },
  {
   "cell_type": "markdown",
   "id": "f16257dc",
   "metadata": {},
   "source": [
    "- 训练"
   ]
  },
  {
   "cell_type": "code",
   "execution_count": 10,
   "id": "cb5a6e6a",
   "metadata": {},
   "outputs": [
    {
     "name": "stdout",
     "output_type": "stream",
     "text": [
      "0:\tlearn: 0.7131783\ttest: 0.7128713\tbest: 0.7128713 (0)\ttotal: 196ms\tremaining: 1m 37s\n",
      "1:\tlearn: 0.7142857\ttest: 0.7128713\tbest: 0.7128713 (0)\ttotal: 222ms\tremaining: 55.2s\n",
      "2:\tlearn: 0.7214953\ttest: 0.7058824\tbest: 0.7128713 (0)\ttotal: 256ms\tremaining: 42.4s\n",
      "3:\tlearn: 0.7429644\ttest: 0.7378641\tbest: 0.7378641 (3)\ttotal: 291ms\tremaining: 36s\n",
      "4:\tlearn: 0.7537879\ttest: 0.7428571\tbest: 0.7428571 (4)\ttotal: 325ms\tremaining: 32.2s\n",
      "5:\tlearn: 0.7562380\ttest: 0.7378641\tbest: 0.7428571 (4)\ttotal: 362ms\tremaining: 29.8s\n",
      "6:\tlearn: 0.7571702\ttest: 0.7307692\tbest: 0.7428571 (4)\ttotal: 399ms\tremaining: 28.1s\n",
      "7:\tlearn: 0.7537879\ttest: 0.7184466\tbest: 0.7428571 (4)\ttotal: 436ms\tremaining: 26.8s\n",
      "8:\tlearn: 0.7557252\ttest: 0.7184466\tbest: 0.7428571 (4)\ttotal: 471ms\tremaining: 25.7s\n",
      "9:\tlearn: 0.7509579\ttest: 0.7184466\tbest: 0.7428571 (4)\ttotal: 498ms\tremaining: 24.4s\n",
      "10:\tlearn: 0.7509728\ttest: 0.7184466\tbest: 0.7428571 (4)\ttotal: 531ms\tremaining: 23.6s\n",
      "11:\tlearn: 0.7480620\ttest: 0.6930693\tbest: 0.7428571 (4)\ttotal: 554ms\tremaining: 22.5s\n",
      "12:\tlearn: 0.7480620\ttest: 0.6930693\tbest: 0.7428571 (4)\ttotal: 587ms\tremaining: 22s\n",
      "13:\tlearn: 0.7630058\ttest: 0.7378641\tbest: 0.7428571 (4)\ttotal: 622ms\tremaining: 21.6s\n",
      "14:\tlearn: 0.7523992\ttest: 0.7254902\tbest: 0.7428571 (4)\ttotal: 639ms\tremaining: 20.7s\n",
      "15:\tlearn: 0.7576923\ttest: 0.7378641\tbest: 0.7428571 (4)\ttotal: 671ms\tremaining: 20.3s\n",
      "16:\tlearn: 0.7606178\ttest: 0.7378641\tbest: 0.7428571 (4)\ttotal: 702ms\tremaining: 19.9s\n",
      "17:\tlearn: 0.7582205\ttest: 0.7254902\tbest: 0.7428571 (4)\ttotal: 719ms\tremaining: 19.3s\n",
      "18:\tlearn: 0.7606178\ttest: 0.7254902\tbest: 0.7428571 (4)\ttotal: 752ms\tremaining: 19s\n",
      "19:\tlearn: 0.7572816\ttest: 0.7326733\tbest: 0.7428571 (4)\ttotal: 785ms\tremaining: 18.8s\n",
      "20:\tlearn: 0.7558140\ttest: 0.7326733\tbest: 0.7428571 (4)\ttotal: 819ms\tremaining: 18.7s\n",
      "21:\tlearn: 0.7533981\ttest: 0.7326733\tbest: 0.7428571 (4)\ttotal: 845ms\tremaining: 18.4s\n",
      "22:\tlearn: 0.7504836\ttest: 0.7070707\tbest: 0.7428571 (4)\ttotal: 859ms\tremaining: 17.8s\n",
      "23:\tlearn: 0.7490347\ttest: 0.7070707\tbest: 0.7428571 (4)\ttotal: 897ms\tremaining: 17.8s\n",
      "24:\tlearn: 0.7567568\ttest: 0.7200000\tbest: 0.7428571 (4)\ttotal: 929ms\tremaining: 17.6s\n",
      "25:\tlearn: 0.7567568\ttest: 0.7200000\tbest: 0.7428571 (4)\ttotal: 952ms\tremaining: 17.4s\n",
      "26:\tlearn: 0.7538462\ttest: 0.7128713\tbest: 0.7428571 (4)\ttotal: 963ms\tremaining: 16.9s\n",
      "27:\tlearn: 0.7500000\ttest: 0.7200000\tbest: 0.7428571 (4)\ttotal: 998ms\tremaining: 16.8s\n",
      "28:\tlearn: 0.7624521\ttest: 0.7378641\tbest: 0.7428571 (4)\ttotal: 1.03s\tremaining: 16.8s\n",
      "29:\tlearn: 0.7571702\ttest: 0.7378641\tbest: 0.7428571 (4)\ttotal: 1.05s\tremaining: 16.4s\n",
      "30:\tlearn: 0.7509579\ttest: 0.7128713\tbest: 0.7428571 (4)\ttotal: 1.07s\tremaining: 16.2s\n",
      "31:\tlearn: 0.7509579\ttest: 0.7128713\tbest: 0.7428571 (4)\ttotal: 1.11s\tremaining: 16.2s\n",
      "32:\tlearn: 0.7509579\ttest: 0.7128713\tbest: 0.7428571 (4)\ttotal: 1.13s\tremaining: 16s\n",
      "33:\tlearn: 0.7580952\ttest: 0.7378641\tbest: 0.7428571 (4)\ttotal: 1.16s\tremaining: 15.9s\n",
      "34:\tlearn: 0.7595420\ttest: 0.7254902\tbest: 0.7428571 (4)\ttotal: 1.2s\tremaining: 15.9s\n",
      "35:\tlearn: 0.7586207\ttest: 0.7254902\tbest: 0.7428571 (4)\ttotal: 1.22s\tremaining: 15.7s\n",
      "36:\tlearn: 0.7533461\ttest: 0.7254902\tbest: 0.7428571 (4)\ttotal: 1.25s\tremaining: 15.7s\n",
      "37:\tlearn: 0.7509579\ttest: 0.7128713\tbest: 0.7428571 (4)\ttotal: 1.28s\tremaining: 15.5s\n",
      "38:\tlearn: 0.7533461\ttest: 0.7254902\tbest: 0.7428571 (4)\ttotal: 1.31s\tremaining: 15.5s\n",
      "39:\tlearn: 0.7466667\ttest: 0.7128713\tbest: 0.7428571 (4)\ttotal: 1.32s\tremaining: 15.2s\n",
      "40:\tlearn: 0.7456979\ttest: 0.7128713\tbest: 0.7428571 (4)\ttotal: 1.35s\tremaining: 15.1s\n",
      "41:\tlearn: 0.7456979\ttest: 0.7128713\tbest: 0.7428571 (4)\ttotal: 1.39s\tremaining: 15.2s\n",
      "42:\tlearn: 0.7528517\ttest: 0.7254902\tbest: 0.7428571 (4)\ttotal: 1.43s\tremaining: 15.2s\n",
      "43:\tlearn: 0.7557252\ttest: 0.7254902\tbest: 0.7428571 (4)\ttotal: 1.46s\tremaining: 15.1s\n",
      "44:\tlearn: 0.7586207\ttest: 0.7326733\tbest: 0.7428571 (4)\ttotal: 1.5s\tremaining: 15.2s\n",
      "45:\tlearn: 0.7609943\ttest: 0.7572816\tbest: 0.7572816 (45)\ttotal: 1.53s\tremaining: 15.1s\n",
      "46:\tlearn: 0.7609943\ttest: 0.7326733\tbest: 0.7572816 (45)\ttotal: 1.56s\tremaining: 15.1s\n",
      "47:\tlearn: 0.7624521\ttest: 0.7326733\tbest: 0.7572816 (45)\ttotal: 1.59s\tremaining: 15s\n",
      "48:\tlearn: 0.7624521\ttest: 0.7326733\tbest: 0.7572816 (45)\ttotal: 1.63s\tremaining: 15s\n",
      "49:\tlearn: 0.7624521\ttest: 0.7326733\tbest: 0.7572816 (45)\ttotal: 1.64s\tremaining: 14.8s\n",
      "50:\tlearn: 0.7624521\ttest: 0.7450980\tbest: 0.7572816 (45)\ttotal: 1.67s\tremaining: 14.7s\n",
      "51:\tlearn: 0.7639155\ttest: 0.7450980\tbest: 0.7572816 (45)\ttotal: 1.7s\tremaining: 14.6s\n",
      "52:\tlearn: 0.7653846\ttest: 0.7450980\tbest: 0.7572816 (45)\ttotal: 1.73s\tremaining: 14.6s\n",
      "53:\tlearn: 0.7630058\ttest: 0.7572816\tbest: 0.7572816 (45)\ttotal: 1.77s\tremaining: 14.7s\n",
      "54:\tlearn: 0.7644788\ttest: 0.7572816\tbest: 0.7572816 (45)\ttotal: 1.8s\tremaining: 14.6s\n",
      "55:\tlearn: 0.7644788\ttest: 0.7572816\tbest: 0.7572816 (45)\ttotal: 1.83s\tremaining: 14.5s\n",
      "56:\tlearn: 0.7635659\ttest: 0.7572816\tbest: 0.7572816 (45)\ttotal: 1.86s\tremaining: 14.5s\n",
      "57:\tlearn: 0.7659574\ttest: 0.7572816\tbest: 0.7572816 (45)\ttotal: 1.89s\tremaining: 14.4s\n",
      "58:\tlearn: 0.7644788\ttest: 0.7647059\tbest: 0.7647059 (58)\ttotal: 1.92s\tremaining: 14.4s\n",
      "59:\tlearn: 0.7615385\ttest: 0.7572816\tbest: 0.7647059 (58)\ttotal: 1.95s\tremaining: 14.3s\n",
      "60:\tlearn: 0.7692308\ttest: 0.7647059\tbest: 0.7647059 (58)\ttotal: 1.99s\tremaining: 14.3s\n",
      "61:\tlearn: 0.7662835\ttest: 0.7572816\tbest: 0.7647059 (58)\ttotal: 2.02s\tremaining: 14.3s\n",
      "62:\tlearn: 0.7686424\ttest: 0.7572816\tbest: 0.7647059 (58)\ttotal: 2.04s\tremaining: 14.1s\n",
      "63:\tlearn: 0.7701149\ttest: 0.7572816\tbest: 0.7647059 (58)\ttotal: 2.07s\tremaining: 14.1s\n",
      "64:\tlearn: 0.7639155\ttest: 0.7647059\tbest: 0.7647059 (58)\ttotal: 2.09s\tremaining: 14s\n",
      "65:\tlearn: 0.7615385\ttest: 0.7647059\tbest: 0.7647059 (58)\ttotal: 2.12s\tremaining: 13.9s\n",
      "66:\tlearn: 0.7662835\ttest: 0.7572816\tbest: 0.7647059 (58)\ttotal: 2.15s\tremaining: 13.9s\n",
      "67:\tlearn: 0.7653846\ttest: 0.7647059\tbest: 0.7647059 (58)\ttotal: 2.17s\tremaining: 13.8s\n",
      "68:\tlearn: 0.7615385\ttest: 0.7647059\tbest: 0.7647059 (58)\ttotal: 2.21s\tremaining: 13.8s\n",
      "69:\tlearn: 0.7630058\ttest: 0.7647059\tbest: 0.7647059 (58)\ttotal: 2.24s\tremaining: 13.8s\n",
      "70:\tlearn: 0.7606178\ttest: 0.7647059\tbest: 0.7647059 (58)\ttotal: 2.27s\tremaining: 13.7s\n",
      "71:\tlearn: 0.7606178\ttest: 0.7647059\tbest: 0.7647059 (58)\ttotal: 2.29s\tremaining: 13.6s\n",
      "72:\tlearn: 0.7606178\ttest: 0.7647059\tbest: 0.7647059 (58)\ttotal: 2.31s\tremaining: 13.5s\n",
      "73:\tlearn: 0.7615385\ttest: 0.7647059\tbest: 0.7647059 (58)\ttotal: 2.35s\tremaining: 13.5s\n",
      "74:\tlearn: 0.7644788\ttest: 0.7647059\tbest: 0.7647059 (58)\ttotal: 2.38s\tremaining: 13.5s\n",
      "75:\tlearn: 0.7630058\ttest: 0.7647059\tbest: 0.7647059 (58)\ttotal: 2.4s\tremaining: 13.4s\n",
      "76:\tlearn: 0.7630058\ttest: 0.7647059\tbest: 0.7647059 (58)\ttotal: 2.44s\tremaining: 13.4s\n",
      "77:\tlearn: 0.7653846\ttest: 0.7647059\tbest: 0.7647059 (58)\ttotal: 2.48s\tremaining: 13.4s\n",
      "78:\tlearn: 0.7653846\ttest: 0.7647059\tbest: 0.7647059 (58)\ttotal: 2.52s\tremaining: 13.4s\n",
      "79:\tlearn: 0.7686424\ttest: 0.7647059\tbest: 0.7647059 (58)\ttotal: 2.55s\tremaining: 13.4s\n",
      "80:\tlearn: 0.7662835\ttest: 0.7647059\tbest: 0.7647059 (58)\ttotal: 2.58s\tremaining: 13.4s\n",
      "81:\tlearn: 0.7662835\ttest: 0.7647059\tbest: 0.7647059 (58)\ttotal: 2.62s\tremaining: 13.3s\n",
      "82:\tlearn: 0.7662835\ttest: 0.7647059\tbest: 0.7647059 (58)\ttotal: 2.65s\tremaining: 13.3s\n",
      "83:\tlearn: 0.7677543\ttest: 0.7647059\tbest: 0.7647059 (58)\ttotal: 2.67s\tremaining: 13.2s\n",
      "84:\tlearn: 0.7677543\ttest: 0.7647059\tbest: 0.7647059 (58)\ttotal: 2.7s\tremaining: 13.2s\n",
      "85:\tlearn: 0.7692308\ttest: 0.7647059\tbest: 0.7647059 (58)\ttotal: 2.74s\tremaining: 13.2s\n",
      "86:\tlearn: 0.7692308\ttest: 0.7647059\tbest: 0.7647059 (58)\ttotal: 2.77s\tremaining: 13.2s\n",
      "87:\tlearn: 0.7692308\ttest: 0.7647059\tbest: 0.7647059 (58)\ttotal: 2.8s\tremaining: 13.1s\n",
      "88:\tlearn: 0.7692308\ttest: 0.7647059\tbest: 0.7647059 (58)\ttotal: 2.84s\tremaining: 13.1s\n",
      "89:\tlearn: 0.7707129\ttest: 0.7647059\tbest: 0.7647059 (58)\ttotal: 2.87s\tremaining: 13.1s\n",
      "90:\tlearn: 0.7644788\ttest: 0.7647059\tbest: 0.7647059 (58)\ttotal: 2.9s\tremaining: 13.1s\n",
      "91:\tlearn: 0.7644788\ttest: 0.7647059\tbest: 0.7647059 (58)\ttotal: 2.94s\tremaining: 13s\n",
      "92:\tlearn: 0.7635659\ttest: 0.7647059\tbest: 0.7647059 (58)\ttotal: 2.97s\tremaining: 13s\n",
      "93:\tlearn: 0.7659574\ttest: 0.7647059\tbest: 0.7647059 (58)\ttotal: 3s\tremaining: 13s\n",
      "94:\tlearn: 0.7635659\ttest: 0.7647059\tbest: 0.7647059 (58)\ttotal: 3.03s\tremaining: 12.9s\n",
      "95:\tlearn: 0.7641326\ttest: 0.7647059\tbest: 0.7647059 (58)\ttotal: 3.06s\tremaining: 12.9s\n",
      "96:\tlearn: 0.7626459\ttest: 0.7647059\tbest: 0.7647059 (58)\ttotal: 3.08s\tremaining: 12.8s\n",
      "97:\tlearn: 0.7626459\ttest: 0.7647059\tbest: 0.7647059 (58)\ttotal: 3.11s\tremaining: 12.8s\n",
      "98:\tlearn: 0.7626459\ttest: 0.7647059\tbest: 0.7647059 (58)\ttotal: 3.15s\tremaining: 12.7s\n",
      "99:\tlearn: 0.7674419\ttest: 0.7647059\tbest: 0.7647059 (58)\ttotal: 3.18s\tremaining: 12.7s\n",
      "100:\tlearn: 0.7674419\ttest: 0.7647059\tbest: 0.7647059 (58)\ttotal: 3.22s\tremaining: 12.7s\n"
     ]
    },
    {
     "name": "stdout",
     "output_type": "stream",
     "text": [
      "101:\tlearn: 0.7674419\ttest: 0.7647059\tbest: 0.7647059 (58)\ttotal: 3.25s\tremaining: 12.7s\n",
      "102:\tlearn: 0.7674419\ttest: 0.7647059\tbest: 0.7647059 (58)\ttotal: 3.28s\tremaining: 12.6s\n",
      "103:\tlearn: 0.7659574\ttest: 0.7647059\tbest: 0.7647059 (58)\ttotal: 3.31s\tremaining: 12.6s\n",
      "104:\tlearn: 0.7674419\ttest: 0.7647059\tbest: 0.7647059 (58)\ttotal: 3.34s\tremaining: 12.6s\n",
      "105:\tlearn: 0.7674419\ttest: 0.7647059\tbest: 0.7647059 (58)\ttotal: 3.35s\tremaining: 12.5s\n",
      "106:\tlearn: 0.7674419\ttest: 0.7647059\tbest: 0.7647059 (58)\ttotal: 3.38s\tremaining: 12.4s\n",
      "107:\tlearn: 0.7698259\ttest: 0.7647059\tbest: 0.7647059 (58)\ttotal: 3.41s\tremaining: 12.4s\n",
      "108:\tlearn: 0.7698259\ttest: 0.7647059\tbest: 0.7647059 (58)\ttotal: 3.45s\tremaining: 12.4s\n",
      "Stopped by overfitting detector  (50 iterations wait)\n",
      "\n",
      "bestTest = 0.7647058824\n",
      "bestIteration = 58\n",
      "\n",
      "Shrink model to first 59 iterations.\n"
     ]
    },
    {
     "data": {
      "text/plain": [
       "<catboost.core.CatBoostClassifier at 0x1a56e8a3588>"
      ]
     },
     "execution_count": 10,
     "metadata": {},
     "output_type": "execute_result"
    }
   ],
   "source": [
    "model.fit(train[['Pclass', 'Sex', 'Age', 'SibSp',\n",
    "       'Parch', 'Fare', 'Embarked', \"Ticket\"]], train[\"Survived\"], eval_set=(validation[['Pclass', 'Sex', 'Age', 'SibSp',\n",
    "       'Parch', 'Fare', 'Embarked', \"Ticket\"]], validation[\"Survived\"]))"
   ]
  },
  {
   "cell_type": "markdown",
   "id": "8774e7e9",
   "metadata": {},
   "source": [
    "- 观察模型权重"
   ]
  },
  {
   "cell_type": "code",
   "execution_count": 11,
   "id": "2e345197",
   "metadata": {
    "scrolled": false
   },
   "outputs": [
    {
     "name": "stdout",
     "output_type": "stream",
     "text": [
      "[23.50720916 54.48406627  8.61342942  5.75702136  0.          4.44378882\n",
      "  0.13805352  3.05643145]\n"
     ]
    }
   ],
   "source": [
    "print(model.get_feature_importance())"
   ]
  },
  {
   "cell_type": "markdown",
   "id": "defa0633",
   "metadata": {},
   "source": [
    "## 3. 预测"
   ]
  },
  {
   "cell_type": "code",
   "execution_count": 12,
   "id": "9b2c5bd4",
   "metadata": {},
   "outputs": [],
   "source": [
    "test = pd.read_csv(r\"E:\\B_dsproject\\dataset\\titanic\\test.csv\", header=0)\n",
    "def transformation(data):\n",
    "    data = str(data).strip()\n",
    "    if data.isnumeric(): \n",
    "        return 1\n",
    "    else:\n",
    "        return 0\n",
    "test = test.fillna({'Embarked': \"NaN\"})\n",
    "test[\"Ticket\"] = test[\"Ticket\"].apply(transformation)"
   ]
  },
  {
   "cell_type": "code",
   "execution_count": 14,
   "id": "e8940c33",
   "metadata": {},
   "outputs": [],
   "source": [
    "test[\"Survived\"] = model.predict(test[['Pclass', 'Sex', 'Age', 'SibSp',\n",
    "       'Parch', 'Fare', 'Embarked', \"Ticket\"]])"
   ]
  },
  {
   "cell_type": "code",
   "execution_count": 15,
   "id": "f1f7d873",
   "metadata": {},
   "outputs": [],
   "source": [
    "test[[\"PassengerId\", \"Survived\"]].to_csv(r\"E:\\B_dsproject\\dataset\\titanic\\submission.csv\", index=False)"
   ]
  },
  {
   "cell_type": "code",
   "execution_count": 16,
   "id": "c1c9e06f",
   "metadata": {},
   "outputs": [],
   "source": [
    "model.save_model(\"best\")"
   ]
  },
  {
   "cell_type": "markdown",
   "id": "edc913cb",
   "metadata": {},
   "source": [
    "## 4. 后续\n",
    "\n",
    "- 特征方面：\n",
    "    - 人工建立高阶的特征交互\n",
    "    - 对年龄、费用等进行分桶尝试\n",
    "    - 对ticket等进行精细化的分类\n",
    "    - 对人名进行关系处理，构建亲属关系等\n",
    "- 样本方面：\n",
    "    - 尝试针对类别不平衡的措施\n",
    "    - 选择一套好的参数后用所有样本训练一个模型，这样可以利用所有的样本\n",
    "- 模型方面：\n",
    "    - 尝试FM模型看看是否有提升"
   ]
  },
  {
   "cell_type": "code",
   "execution_count": null,
   "id": "a052de1f",
   "metadata": {},
   "outputs": [],
   "source": []
  }
 ],
 "metadata": {
  "kernelspec": {
   "display_name": "tfgpu_py36",
   "language": "python",
   "name": "tfgpu_py36"
  },
  "language_info": {
   "codemirror_mode": {
    "name": "ipython",
    "version": 3
   },
   "file_extension": ".py",
   "mimetype": "text/x-python",
   "name": "python",
   "nbconvert_exporter": "python",
   "pygments_lexer": "ipython3",
   "version": "3.6.12"
  }
 },
 "nbformat": 4,
 "nbformat_minor": 5
}
